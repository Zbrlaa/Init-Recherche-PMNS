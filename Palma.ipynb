{
 "cells": [
  {
   "cell_type": "code",
   "execution_count": 2,
   "id": "8da5005f",
   "metadata": {},
   "outputs": [
    {
     "name": "stdout",
     "output_type": "stream",
     "text": [
      "2\n"
     ]
    }
   ],
   "source": [
    "def montg(a,b,p,phi):\n",
    "\tc = a*b\n",
    "\tq = (c * pow(p,-1,phi))%phi\n",
    "\tcp = (c - q*p)//phi\n",
    "\tif cp < 0 :\n",
    "\t\tcp += p\n",
    "\treturn cp\n",
    "\n",
    "print(montg(2,3,5,8))"
   ]
  },
  {
   "cell_type": "code",
   "execution_count": 3,
   "id": "6ae7b2da",
   "metadata": {},
   "outputs": [
    {
     "name": "stdout",
     "output_type": "stream",
     "text": [
      "3\n"
     ]
    }
   ],
   "source": [
    "def sqandmult(a,b,p):\n",
    "\tc = 1\n",
    "\twhile b :\n",
    "\t\tif b&1 :\n",
    "\t\t\tc = (c*a)%p\n",
    "\t\ta = (a*a)%p\n",
    "\t\tb = b >> 1\n",
    "\treturn c\n",
    "\n",
    "print(sqandmult(2,3,5))"
   ]
  },
  {
   "cell_type": "code",
   "execution_count": 4,
   "id": "f6ea19ab",
   "metadata": {},
   "outputs": [
    {
     "name": "stdout",
     "output_type": "stream",
     "text": [
      "3\n"
     ]
    }
   ],
   "source": [
    "def sqandmont(a,b,p,phi):\n",
    "\tc = phi % p\n",
    "\taphi = (a * phi)%p\n",
    "\twhile b :\n",
    "\t\tif b&1 :\n",
    "\t\t\tc = montg(c, aphi, p, phi)\n",
    "\t\taphi = montg(aphi, aphi, p, phi)\n",
    "\t\tb = b >> 1\n",
    "\treturn montg(c, 1, p, phi)\n",
    "\n",
    "print(sqandmont(2,3,5,8))"
   ]
  },
  {
   "cell_type": "code",
   "execution_count": null,
   "id": "575b0d63",
   "metadata": {},
   "outputs": [
    {
     "ename": "SyntaxError",
     "evalue": "invalid syntax (2056151488.py, line 13)",
     "output_type": "error",
     "traceback": [
      "\u001b[0;36m  Cell \u001b[0;32mIn[8], line 13\u001b[0;36m\u001b[0m\n\u001b[0;31m    while 2*n*|lambda|*racine nieme(P)\u001b[0m\n\u001b[0m              ^\u001b[0m\n\u001b[0;31mSyntaxError\u001b[0m\u001b[0;31m:\u001b[0m invalid syntax\n"
     ]
    }
   ],
   "source": [
    "from sage.all import *\n",
    "\n",
    "#Algo a faire en SAGE\n",
    "\n",
    "#E(X) = X^n - alpha\n",
    "#Premiere ligne avec coef impaire dans B c'est M(X)\n",
    "\n",
    "\n",
    "def pmns():\n",
    "\tverif = true\n",
    "\twhile true :\n",
    "\t\twhile verif :\n",
    "\t\t\tp = random_prime(2**128)\n",
    "\t\t\tn = (log2p/64).partieentiere + 1\n",
    "\t\t\tphi = 2**64\n",
    "\t\t\tn = floor(log(p,2)/64)+1\n",
    "\t\t\tK = GF(X) #Gamma fini\n",
    "\t\t\tpol = PolynomialRing(K,\"X\")\n",
    "\t\t\tX = pol(\"X\")\n",
    "\t\t\tE = X**n-2\n",
    "\t\t\txgcd(E, X**p - X) #renvois D, U, v tq D = ExU+(X**p-X)V\n",
    "\t\t\t#E = X^n - lambda\n",
    "\t\t\t#alpha = racine de E\n",
    "\t\t\tB = {}.LLL()\n",
    "\t\t\tphi = 2**64\n",
    "\t\t\tif 2*n*|alpha|*B.norm(1) < phi :\n",
    "\t\t\t\tp = B.norm(1) - 1\n",
    "\t\t\tM = B[i]\n",
    "\n",
    "\t\t\tlambda += 2\n",
    "\t\t\n",
    "\t\tn +=1\n",
    "\t"
   ]
  },
  {
   "cell_type": "markdown",
   "id": "e2ad8f87",
   "metadata": {},
   "source": [
    "Makefile\n",
    ".c\n",
    ".h\n",
    "On fait gen.py 2048 (le p)"
   ]
  },
  {
   "cell_type": "markdown",
   "id": "758b09be",
   "metadata": {},
   "source": []
  }
 ],
 "metadata": {
  "kernelspec": {
   "display_name": "Python 3",
   "language": "python",
   "name": "python3"
  },
  "language_info": {
   "codemirror_mode": {
    "name": "ipython",
    "version": 3
   },
   "file_extension": ".py",
   "mimetype": "text/x-python",
   "name": "python",
   "nbconvert_exporter": "python",
   "pygments_lexer": "ipython3",
   "version": "3.12.3"
  }
 },
 "nbformat": 4,
 "nbformat_minor": 5
}
